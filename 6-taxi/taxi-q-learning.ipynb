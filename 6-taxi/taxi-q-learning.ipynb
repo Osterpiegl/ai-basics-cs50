{
 "cells": [
  {
   "cell_type": "markdown",
   "metadata": {},
   "source": [
    "# Taxi problem"
   ]
  },
  {
   "cell_type": "code",
   "execution_count": 31,
   "metadata": {},
   "outputs": [],
   "source": [
    "import gym\n",
    "import random\n",
    "import matplotlib.pyplot as plt\n",
    "import numpy as np"
   ]
  },
  {
   "cell_type": "code",
   "execution_count": 32,
   "metadata": {},
   "outputs": [],
   "source": [
    "env = gym.make('Taxi-v3')"
   ]
  },
  {
   "cell_type": "code",
   "execution_count": 33,
   "metadata": {},
   "outputs": [],
   "source": [
    "total_t = 0\n",
    "total_r = 0\n",
    "\n",
    "actions = env.action_space.n\n",
    "states = env.observation_space.n"
   ]
  },
  {
   "cell_type": "code",
   "execution_count": 34,
   "metadata": {},
   "outputs": [],
   "source": [
    "def update_q_table(q_table, new_state, old_state, action, reward, alpha):\n",
    "    # Can not calcuate the new state, since we woudl have to use step(), which has side effects.\n",
    "    old_q_value = q_table[(old_state, action)]\n",
    "    best_future_reward = max(q_table[(new_state, action)] for action in range(actions))\n",
    "    new_q_value_estimate = reward + best_future_reward\n",
    "    \n",
    "    q_table[(old_state, action)] = old_q_value + alpha * (new_q_value_estimate - old_q_value)"
   ]
  },
  {
   "cell_type": "code",
   "execution_count": 35,
   "metadata": {},
   "outputs": [],
   "source": [
    "def greedy_action_policy(q_table, state):\n",
    "    sub_state_space = {pair[0]:pair[1] for pair in q_table.items() if pair[0][0] == state}\n",
    "    \n",
    "    max_key = max(sub_state_space, key=lambda key: sub_state_space[key])\n",
    "    max_item = (max_key, sub_state_space[max_key])\n",
    "    \n",
    "    best_items = [item for item in sub_state_space.items() if item[1] == max_item[1]]\n",
    "    \n",
    "    best_item = random.choice(best_items)\n",
    "    \n",
    "    best_action = best_item[0][1]\n",
    "    return best_action"
   ]
  },
  {
   "cell_type": "code",
   "execution_count": 36,
   "metadata": {},
   "outputs": [],
   "source": [
    "def train_agent(num_episodes, max_steps, alpha, epsilon):\n",
    "    q_table = { (state, action): 0 for action in range(actions) for state in range(states) }\n",
    "\n",
    "    metrics = {\n",
    "        \"rewards\": [],\n",
    "        \"steps\": [] \n",
    "    }\n",
    "\n",
    "    for i_episode in range(num_episodes):\n",
    "        observation = env.reset()\n",
    "        done = False\n",
    "        \n",
    "        total_steps = 0\n",
    "        total_reward = 0\n",
    "        while not done and total_steps <= max_steps:\n",
    "            total_steps += 1\n",
    "            \n",
    "            # animate_drive(0.01)\n",
    "            \n",
    "            action = None\n",
    "            if epsilon and random.random() < epsilon:\n",
    "                action = env.action_space.sample()\n",
    "            else:\n",
    "                action = greedy_action_policy(q_table, observation)\n",
    "\n",
    "            old_state = observation\n",
    "            observation, reward, done, info = env.step(action)\n",
    "            update_q_table(q_table, observation, old_state, action, reward, alpha)\n",
    "\n",
    "            total_reward += reward\n",
    "            \n",
    "            if done:\n",
    "                metrics[\"rewards\"].append(total_reward)\n",
    "                metrics[\"steps\"].append(total_steps)\n",
    "                #print(\"Episode finished after {} timesteps\".format(t))\n",
    "                break\n",
    "    \n",
    "    return q_table, metrics"
   ]
  },
  {
   "cell_type": "code",
   "execution_count": 37,
   "metadata": {},
   "outputs": [],
   "source": [
    "def average(lst): \n",
    "    return sum(lst) / len(lst)"
   ]
  },
  {
   "cell_type": "code",
   "execution_count": 38,
   "metadata": {},
   "outputs": [],
   "source": [
    "from IPython.display import clear_output\n",
    "import time\n",
    "def animate_drive(wait_time = 0.5):\n",
    "    clear_output(wait=True)\n",
    "    env.render()\n",
    "    time.sleep(wait_time)"
   ]
  },
  {
   "cell_type": "code",
   "execution_count": 39,
   "metadata": {},
   "outputs": [],
   "source": [
    "def test(q_table, num_episodes):\n",
    "    episode_rewards = []\n",
    "    episode_steps = []\n",
    "    \n",
    "    for i_episode in range(num_episodes):\n",
    "        observation = env.reset()\n",
    "        done = False\n",
    "        \n",
    "        episode_steps.append(0)\n",
    "        episode_rewards.append(0)\n",
    "        while not done:\n",
    "            #animate_drive()\n",
    "            episode_steps[i_episode] += 1\n",
    "            \n",
    "            action = greedy_action_policy(q_table, observation)\n",
    "\n",
    "            old_state = observation\n",
    "            observation, reward, done, info = env.step(action)\n",
    "            episode_rewards[i_episode] += reward\n",
    "\n",
    "            if done:\n",
    "                #print(\"steps\", episode_steps[i_episode])\n",
    "                break\n",
    "    \n",
    "    avg_reward = average(episode_rewards)\n",
    "    avg_steps = average(episode_steps)\n",
    "    \n",
    "    print(\"avg reward\", avg_reward)\n",
    "    print(\"avg steps\", avg_steps)    "
   ]
  },
  {
   "cell_type": "code",
   "execution_count": 44,
   "metadata": {},
   "outputs": [],
   "source": [
    "train_episodes = 10000\n",
    "\n",
    "max_steps = 99;\n",
    "alpha = 0.7\n",
    "epsilon = 0.1\n",
    "\n",
    "seed = 0\n",
    "\n",
    "env.seed(seed)\n",
    "random.seed(seed)\n",
    "env.action_space.seed(seed)\n",
    "\n",
    "q_table, metrics = train_agent(train_episodes, max_steps, alpha, epsilon)"
   ]
  },
  {
   "cell_type": "code",
   "execution_count": 45,
   "metadata": {},
   "outputs": [
    {
     "data": {
      "image/png": "[encoded data removed]",
      "text/plain": [
       "<Figure size 432x288 with 1 Axes>"
      ]
     },
     "metadata": {
      "needs_background": "light"
     },
     "output_type": "display_data"
    }
   ],
   "source": [
    "plt.plot(list(range(len(metrics[\"rewards\"]))), metrics[\"rewards\"])\n",
    "plt.xlabel(\"Episodes\")\n",
    "plt.ylabel(\"Rewards\")\n",
    "plt.show()"
   ]
  },
  {
   "cell_type": "code",
   "execution_count": 46,
   "metadata": {},
   "outputs": [
    {
     "data": {
      "image/png": "[encoded data removed]",
      "text/plain": [
       "<Figure size 432x288 with 1 Axes>"
      ]
     },
     "metadata": {
      "needs_background": "light"
     },
     "output_type": "display_data"
    }
   ],
   "source": [
    "plt.plot(list(range(len(metrics[\"rewards\"]))), metrics[\"steps\"])\n",
    "plt.xlabel(\"Episodes\")\n",
    "plt.ylabel(\"Steps\")\n",
    "plt.show()"
   ]
  },
  {
   "cell_type": "code",
   "execution_count": 47,
   "metadata": {},
   "outputs": [
    {
     "name": "stdout",
     "output_type": "stream",
     "text": [
      "avg reward 8.08\n",
      "avg steps 12.92\n"
     ]
    }
   ],
   "source": [
    "test_episodes = 100\n",
    "\n",
    "test(q_table, test_episodes)\n",
    "\n",
    "env.close()"
   ]
  }
 ],
 "metadata": {
  "kernelspec": {
   "display_name": "Python [conda env:rl]",
   "language": "python",
   "name": "conda-env-rl-py"
  },
  "language_info": {
   "codemirror_mode": {
    "name": "ipython",
    "version": 3
   },
   "file_extension": ".py",
   "mimetype": "text/x-python",
   "name": "python",
   "nbconvert_exporter": "python",
   "pygments_lexer": "ipython3",
   "version": "3.9.2"
  }
 },
 "nbformat": 4,
 "nbformat_minor": 4
}
